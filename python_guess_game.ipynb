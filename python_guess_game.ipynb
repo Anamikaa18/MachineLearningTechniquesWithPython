{
  "nbformat": 4,
  "nbformat_minor": 0,
  "metadata": {
    "colab": {
      "provenance": [],
      "authorship_tag": "ABX9TyPJ2V3sPzAU9FiEb6+uzIC6",
      "include_colab_link": true
    },
    "kernelspec": {
      "name": "python3",
      "display_name": "Python 3"
    },
    "language_info": {
      "name": "python"
    }
  },
  "cells": [
    {
      "cell_type": "markdown",
      "metadata": {
        "id": "view-in-github",
        "colab_type": "text"
      },
      "source": [
        "<a href=\"https://colab.research.google.com/github/Anamikaa18/MachineLearningTechniquesWithPython/blob/main/python_guess_game.ipynb\" target=\"_parent\"><img src=\"https://colab.research.google.com/assets/colab-badge.svg\" alt=\"Open In Colab\"/></a>"
      ]
    },
    {
      "cell_type": "code",
      "execution_count": 1,
      "metadata": {
        "colab": {
          "base_uri": "https://localhost:8080/"
        },
        "id": "jIEMhjo_HJSi",
        "outputId": "14f4facd-737d-4a80-c154-b0aa3e0d7ab0"
      },
      "outputs": [
        {
          "output_type": "stream",
          "name": "stdout",
          "text": [
            "What is your name?Anamika\n",
            "Good Luck! Anamika\n",
            "Guess the characters\n",
            "_\n",
            "_\n",
            "_\n",
            "_\n",
            "_\n",
            "_\n",
            "guess a character:me\n",
            "Wrong\n",
            "You have 11 more guesses\n",
            "_\n",
            "_\n",
            "_\n",
            "_\n",
            "_\n",
            "_\n",
            "guess a character:rainbow\n",
            "Wrong\n",
            "You have 10 more guesses\n",
            "_\n",
            "_\n",
            "_\n",
            "_\n",
            "o\n",
            "n\n",
            "guess a character:water\n",
            "Wrong\n",
            "You have 9 more guesses\n",
            "_\n",
            "_\n",
            "t\n",
            "_\n",
            "o\n",
            "n\n",
            "guess a character:maths\n",
            "Wrong\n",
            "You have 8 more guesses\n",
            "_\n",
            "_\n",
            "t\n",
            "h\n",
            "o\n",
            "n\n",
            "guess a character:wonderful\n",
            "Wrong\n",
            "You have 7 more guesses\n",
            "_\n",
            "_\n",
            "t\n",
            "h\n",
            "o\n",
            "n\n",
            "guess a character:curious\n",
            "Wrong\n",
            "You have 6 more guesses\n",
            "_\n",
            "_\n",
            "t\n",
            "h\n",
            "o\n",
            "n\n",
            "guess a character:py\n",
            "p\n",
            "y\n",
            "t\n",
            "h\n",
            "o\n",
            "n\n",
            "You Win\n",
            "The word is:  python\n"
          ]
        }
      ],
      "source": [
        "import random\n",
        "name= input(\"What is your name?\")\n",
        "print(\"Good Luck!\", name)\n",
        "words = ['rainbow', 'computer', 'science', 'programming',\n",
        "\t\t'python', 'mathematics', 'player', 'condition',\n",
        "\t\t'reverse', 'water', 'board', 'geeks']\n",
        "word = random.choice(words)\n",
        "print(\"Guess the characters\")\n",
        "guesses = ''\n",
        "turns = 12\n",
        "while turns > 0:\n",
        "  failed = 0\n",
        "  for char in word:\n",
        "    if char in guesses:\n",
        "      print(char)\n",
        "    else:\n",
        "      print(\"_\")\n",
        "      failed += 1\n",
        "  if failed == 0:\n",
        "    print(\"You Win\")\n",
        "    print(\"The word is: \", word)\n",
        "    break\n",
        "  guess = input(\"guess a character:\")\n",
        "  guesses += guess\n",
        "  if guess not in word:\n",
        "    turns -= 1\n",
        "    print(\"Wrong\")\n",
        "    print(\"You have\", + turns, 'more guesses')\n",
        "    if turns == 0:\n",
        "      print(\"You Loose\")"
      ]
    },
    {
      "cell_type": "code",
      "source": [],
      "metadata": {
        "id": "jKRr1dcvIVL1"
      },
      "execution_count": null,
      "outputs": []
    }
  ]
}